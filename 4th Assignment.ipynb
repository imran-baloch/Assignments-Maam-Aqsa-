{
 "cells": [
  {
   "cell_type": "markdown",
   "id": "ab1fa7b9",
   "metadata": {},
   "source": [
    "### 🚀 Python & Streamlit Assignment:\n",
    "Smart Travel Assistant\n",
    "\n",
    "📌 Assignment Overview\n",
    "\n",
    "You will build a Smart Travel Assistant using Python and Streamlit. The app will:\n",
    "\n",
    "✅ Let users select a travel destination.\n",
    "✅ Estimate travel expenses based on user input.\n",
    "✅ Suggest a packing checklist based on the expected weather.\n",
    "✅ Display a travel summary with all user inputs.\n",
    "\n",
    "📌 Topics Covered\n",
    "✔️ Python Basics (Functions, Lists, Dictionarie\n",
    "✔️ Streamlit (Building Web App\n",
    "✔️ User Input Handling (Text, Dropdowns, Sliders, Button\n",
    "✔️ File Handling (Saving travel details for future referenc\n",
    "✔️ Data Display & Interactivi"
   ]
  },
  {
   "cell_type": "markdown",
   "id": "a5df23e9",
   "metadata": {},
   "source": [
    "### Task 1: User Destination Selection\n",
    "● The user selects a destination from a list of famous cities.\n",
    "\n",
    "● The user chooses the expected weather condition (Sunny, Rainy, Cold).\n",
    "\n",
    "● The app stores the user’s choice and displays it on the screen."
   ]
  },
  {
   "cell_type": "code",
   "execution_count": null,
   "id": "c6caa89d",
   "metadata": {},
   "outputs": [],
   "source": []
  }
 ],
 "metadata": {
  "kernelspec": {
   "display_name": "Python 3 (ipykernel)",
   "language": "python",
   "name": "python3"
  },
  "language_info": {
   "codemirror_mode": {
    "name": "ipython",
    "version": 3
   },
   "file_extension": ".py",
   "mimetype": "text/x-python",
   "name": "python",
   "nbconvert_exporter": "python",
   "pygments_lexer": "ipython3",
   "version": "3.10.9"
  }
 },
 "nbformat": 4,
 "nbformat_minor": 5
}
